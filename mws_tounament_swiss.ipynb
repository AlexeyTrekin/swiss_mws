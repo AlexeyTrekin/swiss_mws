{
 "cells": [
  {
   "cell_type": "code",
   "execution_count": 1,
   "metadata": {
    "collapsed": true
   },
   "outputs": [],
   "source": [
    "import random"
   ]
  },
  {
   "cell_type": "code",
   "execution_count": null,
   "metadata": {
    "collapsed": true
   },
   "outputs": [],
   "source": []
  },
  {
   "cell_type": "code",
   "execution_count": 310,
   "metadata": {
    "collapsed": true
   },
   "outputs": [],
   "source": [
    "def pairings(fighters):\n",
    "    all_keys = list(fighters.keys())\n",
    "    if len(all_keys)%2 != 0:\n",
    "        raise ValueError('Must have even number of fighters')\n",
    "    fights_num = int(len(all_keys)/2)\n",
    "    random.shuffle(all_keys)\n",
    "    all_pairs = []\n",
    "    for i in range(fights_num):\n",
    "        all_pairs.append((all_keys[2*i], all_keys[2*i+1]))\n",
    "    return all_pairs"
   ]
  },
  {
   "cell_type": "code",
   "execution_count": 311,
   "metadata": {
    "collapsed": true
   },
   "outputs": [],
   "source": [
    "fighters = {}\n",
    "lost_fighters = []\n",
    "NUM_F = 40\n",
    "START_HP = 12\n",
    "\n",
    "for i in range(NUM_F):\n",
    "    fighters[i] = START_HP"
   ]
  },
  {
   "cell_type": "code",
   "execution_count": null,
   "metadata": {
    "collapsed": true
   },
   "outputs": [],
   "source": []
  },
  {
   "cell_type": "code",
   "execution_count": 312,
   "metadata": {
    "collapsed": true
   },
   "outputs": [],
   "source": [
    "def clean(fighters, lost_keys):\n",
    "    fighters_to_remove = []\n",
    "    for f in fighters.keys():\n",
    "        if fighters[f] <=0:\n",
    "            fighters_to_remove.append(f)\n",
    "    for f in fighters_to_remove:\n",
    "        fighters.pop(f)\n",
    "        lost_keys.append(f)\n",
    "    return fighters, lost_keys\n",
    "\n",
    "def conduct_round(fighters, lost_keys, v):\n",
    "    if len(fighters.keys())%2 !=0:\n",
    "        fighters[lost_keys[-1]] = 3\n",
    "        lost_keys = lost_keys[:-1]\n",
    "    pairs = pairings(fighters)\n",
    "    for p in pairs:\n",
    "        before_1 = fighters[p[0]]\n",
    "        before_2 = fighters[p[1]]\n",
    "        fighters[p[0]] = fighters[p[0]] - random.randint(1,3)\n",
    "        fighters[p[1]] = fighters[p[1]] - random.randint(1,3)    \n",
    "        if(v >= 2):\n",
    "            print(p[0], ':', before_1, '-->', fighters[p[0]])\n",
    "            print(p[1], ':', before_2, '-->',  fighters[p[1]])\n",
    "    return clean(fighters, lost_keys)"
   ]
  },
  {
   "cell_type": "code",
   "execution_count": 313,
   "metadata": {
    "collapsed": true
   },
   "outputs": [],
   "source": [
    "# Initial setup\n",
    "def simulate(NUM_F = 10, v=1):\n",
    "    fighters = {}\n",
    "    lost_fighters = []\n",
    "    START_HP = 12\n",
    "    for i in range(NUM_F):\n",
    "        fighters[i] = START_HP\n",
    "\n",
    "    # rounds\n",
    "    total_fights = 0\n",
    "    rounds = 0\n",
    "    while (len(fighters.keys()) > 6):\n",
    "        rounds += 1\n",
    "        fights_in_round = int((len(fighters.keys()) + 1)/2)\n",
    "        total_fights += fights_in_round\n",
    "        fighters, lost_fighters = conduct_round(fighters, lost_fighters,v)\n",
    "        if v >= 1:\n",
    "            print(\"Round {}\".format(rounds))\n",
    "            print(\"{} fights in round, {} fighters out, {} fighters left.\".format(fights_in_round, len(lost_fighters), len(fighters.keys())))\n",
    "            print(\"Total fights {}, time {}\".format(total_fights, total_fights*2 + 5*rounds))\n",
    "            print(\"{} total points left\")\n",
    "        if v >= 2:\n",
    "            print(fighters)\n",
    "            print(lost_fighters)\n",
    "    return rounds, total_fights"
   ]
  },
  {
   "cell_type": "code",
   "execution_count": 324,
   "metadata": {},
   "outputs": [
    {
     "name": "stdout",
     "output_type": "stream",
     "text": [
      "Rounds:  7 7.8 8\n",
      "fights:  211 221.43 231\n"
     ]
    }
   ],
   "source": [
    "import numpy as np\n",
    "\n",
    "rounds = []\n",
    "fights = []\n",
    "\n",
    "for i in range (100):\n",
    "    r, f = simulate(70,0)\n",
    "    #print(r,f)\n",
    "    rounds.append(r)\n",
    "    fights.append(f)\n",
    "print('Rounds: ', np.min(rounds), np.mean(rounds), np.max(rounds))\n",
    "print('fights: ', np.min(fights), np.mean(fights), np.max(fights))"
   ]
  },
  {
   "cell_type": "code",
   "execution_count": 319,
   "metadata": {
    "collapsed": true
   },
   "outputs": [],
   "source": [
    "def tournament_time(rounds, fights, grounds):\n",
    "    return (5*rounds + fights*3/grounds)/60"
   ]
  },
  {
   "cell_type": "code",
   "execution_count": 325,
   "metadata": {},
   "outputs": [
    {
     "data": {
      "text/plain": [
       "6.416666666666667"
      ]
     },
     "execution_count": 325,
     "metadata": {},
     "output_type": "execute_result"
    }
   ],
   "source": [
    "tournament_time(8, 230, 2)"
   ]
  },
  {
   "cell_type": "markdown",
   "metadata": {},
   "source": [
    "# Swiss pairings"
   ]
  },
  {
   "cell_type": "code",
   "execution_count": 218,
   "metadata": {
    "collapsed": true
   },
   "outputs": [],
   "source": [
    "class Fighter:\n",
    "    \n",
    "    def __init__(self, name, hp=12):\n",
    "        self.name = name\n",
    "        self.hp = hp\n",
    "        self.enemies = {}#{self.name:9999}\n",
    "    \n",
    "    def fight(self, other, hp_lost):\n",
    "        if other.name in self.enemies.keys():\n",
    "            self.enemies[other.name] += 1\n",
    "        else:\n",
    "            self.enemies[other.name] = 1\n",
    "        self.hp -= hp_lost\n",
    "        \n",
    "    def played(self, other):\n",
    "        if other.name in self.enemies.keys():\n",
    "            return self.enemies[other.name]\n",
    "        else:\n",
    "            return 0\n",
    "\n",
    "    def normalize_played(self, others):\n",
    "        if len(self.enemies.keys()) < len(others):\n",
    "            return\n",
    "        m = 99\n",
    "        for o in others:\n",
    "            if o.name not in self.enemies.keys():\n",
    "                return\n",
    "            else:\n",
    "                m = min(m, self.enemies[o.name])\n",
    "        if m == 0:\n",
    "            return\n",
    "        # If we reached here it means that all others played at least 1 time\n",
    "        # Then we substract 1 from all of them to nullify at least one of them\n",
    "        print(self.name + \" played with all at least {} times\".format(m))\n",
    "        for o in others:\n",
    "            self.enemies[o.name] -= m\n",
    "        \n",
    "    def __repr__(self):\n",
    "        return (self.name + ' ' + str(self.hp))"
   ]
  },
  {
   "cell_type": "code",
   "execution_count": 405,
   "metadata": {
    "collapsed": true
   },
   "outputs": [],
   "source": [
    "def fight(f1, f2, result):\n",
    "    f1.fight(f2, result[0])\n",
    "    f2.fight(f1, result[1])\n",
    "\n",
    "def playerStandings(players):\n",
    "    \"\"\"Returns a list of the players and their win records, sorted by score.\n",
    "\n",
    "    The first entry in the list should be the player in first place, or a player\n",
    "    tied for first place if there is currently a tie.\n",
    "\n",
    "    Args:\n",
    "        None\n",
    "    Returns:\n",
    "      A list of tuples, each of which contains (id, name, wins, losses, draws, matches, score):\n",
    "        (0)id: the player's unique id (assigned by the database)\n",
    "        (1)name: the player's full name (as registered)\n",
    "        (6)score: the score of this player\n",
    "    \"\"\"\n",
    "    def hp(fighter):\n",
    "        return fighter.hp\n",
    "    \n",
    "    return sorted(players, key=hp)\n",
    "\n",
    "def alreadyPlayed(player1, player2):\n",
    "    \"\"\"Have these two players already played in this tour?\n",
    "\n",
    "    Args:\n",
    "        player1: player's unique id#\n",
    "        player2: player's unique id#\n",
    "        tour_id: tour's unique id#\n",
    "    Returns:\n",
    "        A boolean indicating if this would be a rematch\n",
    "    \"\"\"\n",
    "    return player1.played(player2) > 0 or player2.played(player1) > 0\n",
    "\n",
    "def normalize_all_played(fighters):\n",
    "    for f in fighters:\n",
    "        f.normalize_played([other for other in fighters if other.name != f.name])\n",
    "\n",
    "def swissPairings(players):\n",
    "    \"\"\"Returns a list of pairs of players for the next round of a match in this tour.\n",
    "\n",
    "    Assuming that there are an even number of players registered, each player\n",
    "    appears exactly once in the pairings.  Each player is paired with another\n",
    "    player with an equal or nearly-equal win record, that is, a player adjacent\n",
    "    to him or her in the standings.  Rematches are not allowed, so all pairings are new.\n",
    "\n",
    "    Returns:\n",
    "      A list of tuples, each of which contains (id1, name1, id2, name2)\n",
    "        id1: the first player's unique id\n",
    "        name1: the first player's name\n",
    "        id2: the second player's unique id\n",
    "        name2: the second player's name\n",
    "    \"\"\"\n",
    "    standings = playerStandings(players)\n",
    "    pairings = []\n",
    "\n",
    "    for i in range(0, len(standings), 2):\n",
    "        for j in range(i+1, len(standings)):\n",
    "            if not alreadyPlayed(standings[i], standings[j]):\n",
    "                # good pair found, swap into place then break the inner loop\n",
    "                while j > i + 1:\n",
    "                    standings[j-1], standings[j] = standings[j], standings[j-1]\n",
    "                    j -= 1\n",
    "                break\n",
    "        pairings.append((standings[i], standings[i+1]))\n",
    "    return pairings\n",
    "\n",
    "def remove(fighters, outs, v):\n",
    "    new_outs = []\n",
    "    m = 3\n",
    "    for f in fighters:\n",
    "        if f.hp <= 0:\n",
    "            new_outs.append(f)\n",
    "        else:\n",
    "            m = min(m, f.hp)\n",
    "            \n",
    "    if len(new_outs)%2 != 0:\n",
    "        lucky = random.choice(new_outs)\n",
    "        if v >= 1:\n",
    "            print ('Lucky {}'.format(lucky.name))\n",
    "        lucky.hp = m\n",
    "        new_outs.remove(lucky)\n",
    "        \n",
    "    for f in new_outs:\n",
    "        fighters.remove(f)\n",
    "        \n",
    "    outs += new_outs"
   ]
  },
  {
   "cell_type": "code",
   "execution_count": 404,
   "metadata": {
    "collapsed": true
   },
   "outputs": [],
   "source": [
    "def conduct_round_swiss(fighters, outs, v):\n",
    "    pairs = swissPairings(fighters)\n",
    "    #print(pairs)\n",
    "    for p in pairs:\n",
    "        fight(p[0], p[1], (random.randint(1,3), random.randint(1,3)))\n",
    "    normalize_all_played(fighters)\n",
    "    remove(fighters, outs, v)"
   ]
  },
  {
   "cell_type": "code",
   "execution_count": 387,
   "metadata": {
    "collapsed": true
   },
   "outputs": [],
   "source": [
    "fighters = [Fighter(str(i)) for i in range(10)]"
   ]
  },
  {
   "cell_type": "code",
   "execution_count": 393,
   "metadata": {},
   "outputs": [
    {
     "name": "stdout",
     "output_type": "stream",
     "text": [
      "[(7 1, 9 1), (1 3, 2 3), (3 3, 4 4), (0 4, 5 6)]\n"
     ]
    },
    {
     "data": {
      "text/plain": [
       "[0 2, 1 2, 2 1, 3 1, 4 2, 5 3]"
      ]
     },
     "execution_count": 393,
     "metadata": {},
     "output_type": "execute_result"
    }
   ],
   "source": [
    "outs = []\n",
    "conduct_round_swiss(fighters, outs)\n",
    "fighters"
   ]
  },
  {
   "cell_type": "code",
   "execution_count": 300,
   "metadata": {},
   "outputs": [
    {
     "data": {
      "text/plain": [
       "[2 0, 20 -1, 27 -4, 35 -3]"
      ]
     },
     "execution_count": 300,
     "metadata": {},
     "output_type": "execute_result"
    }
   ],
   "source": [
    "outs"
   ]
  },
  {
   "cell_type": "code",
   "execution_count": 445,
   "metadata": {
    "collapsed": true
   },
   "outputs": [],
   "source": [
    "def simulate_swiss(NUM_F = 10, v=1):\n",
    "    fighters = [Fighter(str(i)) for i in range(NUM_F)]\n",
    "    outs = []\n",
    "\n",
    "    # rounds\n",
    "    total_fights = 0\n",
    "    rounds = 0\n",
    "    while (len(fighters) > 6):\n",
    "        rounds += 1\n",
    "        fights_in_round = int(len(fighters)/2)\n",
    "        total_fights += fights_in_round\n",
    "        conduct_round_swiss(fighters, outs, v)\n",
    "        if v >= 1:\n",
    "            print(\"Round {}\".format(rounds))\n",
    "            print(\"{} fights in round, {} fighters out, {} fighters left.\".format(fights_in_round, len(outs), len(fighters)))\n",
    "            print(\"Total fights {}\".format(total_fights))\n",
    "           # print(\"{} total points left\")\n",
    "        if v >= 2:\n",
    "            print(fighters)\n",
    "            print(outs)\n",
    "    return rounds, total_fights"
   ]
  },
  {
   "cell_type": "code",
   "execution_count": 455,
   "metadata": {},
   "outputs": [
    {
     "name": "stdout",
     "output_type": "stream",
     "text": [
      "49 played with all at least 1 times\n",
      "Rounds:  7 7.78 8\n",
      "fights:  211 220.72 229\n",
      "6.39166666667\n"
     ]
    }
   ],
   "source": [
    "rounds = []\n",
    "fights = []\n",
    "for i in range (100):\n",
    "    r, f = simulate_swiss(70,0)\n",
    "    #print(r,f)\n",
    "    rounds.append(r)\n",
    "    fights.append(f)\n",
    "print('Rounds: ', np.min(rounds), np.mean(rounds), np.max(rounds))\n",
    "print('fights: ', np.min(fights), np.mean(fights), np.max(fights))\n",
    "print(tournament_time(np.max(rounds), np.max(fights), 2))"
   ]
  },
  {
   "cell_type": "markdown",
   "metadata": {
    "collapsed": true
   },
   "source": [
    "# Google sheets"
   ]
  },
  {
   "cell_type": "code",
   "execution_count": 3,
   "metadata": {
    "collapsed": true
   },
   "outputs": [],
   "source": [
    "import httplib2\n",
    "import apiclient.discovery\n",
    "from oauth2client.service_account import ServiceAccountCredentials as SAC\n",
    "\n",
    "CREDENTIALS_FILE = 'mws-tournament-fa7e5f4c8445.json'\n",
    "\n",
    "credentials = SAC.from_json_keyfile_name(CREDENTIALS_FILE, ['https://www.googleapis.com/auth/spreadsheets',\n",
    "                                                              'https://www.googleapis.com/auth/drive'])\n",
    "httpAuth = credentials.authorize(httplib2.Http())\n",
    "service = apiclient.discovery.build('sheets', 'v4', http=httpAuth)\n",
    "\n",
    "spreadsheet = service.spreadsheets().create(body = {\n",
    "    'properties': {'title': 'Mws-sheets', 'locale': 'ru_RU'},\n",
    "    'sheets': [{'properties': {'sheetType': 'GRID',\n",
    "                               'sheetId': 0,\n",
    "                               'title': 'Round_1',\n",
    "                               'gridProperties': {'rowCount': 23, 'columnCount': 15}}}]\n",
    "}).execute()\n"
   ]
  },
  {
   "cell_type": "code",
   "execution_count": 4,
   "metadata": {},
   "outputs": [
    {
     "data": {
      "text/plain": [
       "{'properties': {'autoRecalc': 'ON_CHANGE',\n",
       "  'defaultFormat': {'backgroundColor': {'blue': 1, 'green': 1, 'red': 1},\n",
       "   'padding': {'bottom': 2, 'left': 3, 'right': 3, 'top': 2},\n",
       "   'textFormat': {'bold': False,\n",
       "    'fontFamily': 'arial,sans,sans-serif',\n",
       "    'fontSize': 10,\n",
       "    'foregroundColor': {},\n",
       "    'italic': False,\n",
       "    'strikethrough': False,\n",
       "    'underline': False},\n",
       "   'verticalAlignment': 'BOTTOM',\n",
       "   'wrapStrategy': 'OVERFLOW_CELL'},\n",
       "  'locale': 'ru_RU',\n",
       "  'timeZone': 'Etc/GMT',\n",
       "  'title': 'Mws-sheets'},\n",
       " 'sheets': [{'properties': {'gridProperties': {'columnCount': 15,\n",
       "     'rowCount': 23},\n",
       "    'index': 0,\n",
       "    'sheetId': 0,\n",
       "    'sheetType': 'GRID',\n",
       "    'title': 'Round_1'}}],\n",
       " 'spreadsheetId': '1P4cP-V8FWYa7Jwu1IEEWSQ1dmMG9vu6El-x54xspifQ',\n",
       " 'spreadsheetUrl': 'https://docs.google.com/spreadsheets/d/1P4cP-V8FWYa7Jwu1IEEWSQ1dmMG9vu6El-x54xspifQ/edit'}"
      ]
     },
     "execution_count": 4,
     "metadata": {},
     "output_type": "execute_result"
    }
   ],
   "source": [
    "spreadsheet"
   ]
  },
  {
   "cell_type": "code",
   "execution_count": 9,
   "metadata": {
    "collapsed": true
   },
   "outputs": [],
   "source": [
    "# Share for manual updates\n",
    "\n",
    "driveService = apiclient.discovery.build('drive', 'v3', http = httpAuth)\n",
    "shareRes = driveService.permissions().create(\n",
    "    fileId = spreadsheet['spreadsheetId'],\n",
    "    body = {'type': 'user', 'role': 'writer', 'emailAddress': 'alexey.trekin@gmail.com'},\n",
    "    fields = 'id'\n",
    ").execute()"
   ]
  },
  {
   "cell_type": "code",
   "execution_count": 12,
   "metadata": {
    "collapsed": true
   },
   "outputs": [],
   "source": [
    "# set column width\n",
    "request = [] \n",
    "for col in [2,3,4,5,7,9,10,11,12]:\n",
    "    request.append({\n",
    "          \"updateDimensionProperties\": {\n",
    "          \"range\": {\n",
    "          \"sheetId\": 0,\n",
    "          \"dimension\": \"COLUMNS\",  # COLUMNS - потому что столбец\n",
    "          \"startIndex\": col,         # Столбцы нумеруются с нуля\n",
    "          \"endIndex\": col+1            # startIndex берётся включительно, endIndex - НЕ включительно,\n",
    "                                   # т.е. размер будет применён к столбцам в диапазоне [0,1), т.е. только к столбцу A\n",
    "          },\n",
    "          \"properties\": {\n",
    "          \"pixelSize\": 35     # размер в пикселях\n",
    "          },\n",
    "          \"fields\": \"pixelSize\"  # нужно задать только pixelSize и не трогать другие параметры столбца\n",
    "          }\n",
    "    })\n",
    "\n",
    "results = service.spreadsheets().batchUpdate(spreadsheetId = spreadsheet['spreadsheetId'], \n",
    "                                             body = {\"requests\": request}).execute()"
   ]
  },
  {
   "cell_type": "code",
   "execution_count": 14,
   "metadata": {
    "collapsed": true
   },
   "outputs": [],
   "source": [
    "# merge some cells\n",
    "request = [\n",
    "{'mergeCells': {'range': {'sheetId': 0,\n",
    "                          'startRowIndex': 0,\n",
    "                          'endRowIndex': 1,\n",
    "                          'startColumnIndex': 1,\n",
    "                          'endColumnIndex': 7},\n",
    "                'mergeType': 'MERGE_ALL'}},\n",
    "{'mergeCells': {'range': {'sheetId': 0,\n",
    "                          'startRowIndex': 0,\n",
    "                          'endRowIndex': 1,\n",
    "                          'startColumnIndex': 8,\n",
    "                          'endColumnIndex': 14},\n",
    "                'mergeType': 'MERGE_ALL'}}]\n",
    "\n",
    "results = service.spreadsheets().batchUpdate(spreadsheetId = spreadsheet['spreadsheetId'], \n",
    "                                             body = {\"requests\": request}).execute()"
   ]
  },
  {
   "cell_type": "code",
   "execution_count": 39,
   "metadata": {
    "collapsed": true
   },
   "outputs": [],
   "source": [
    "# Enter static data\n",
    "data_request  = {\n",
    " \"valueInputOption\": \"USER_ENTERED\",\n",
    "    \"data\": [\n",
    "        {\"range\": \"Round_1!B1:B1\",\n",
    "         \"majorDimension\": \"ROWS\",     # сначала заполнять ряды, затем столбцы (т.е. самые внутренние списки в values - это ряды)\n",
    "         \"values\": [[\"1 ристалище\"]]},\n",
    "\n",
    "        {\"range\": \"Round_1!I1:I1\",\n",
    "         \"majorDimension\": \"COLUMNS\",  # сначала заполнять столбцы, затем ряды (т.е. самые внутренние списки в values - это столбцы)\n",
    "         \"values\": [[\"2 ристалище\"]]},\n",
    "        \n",
    "        {\"range\": \"Round_1!B2:N2\",\n",
    "         \"majorDimension\": \"ROWS\",     # сначала заполнять ряды, затем столбцы (т.е. самые внутренние списки в values - это ряды)\n",
    "         \"values\": [[\"Фамилия\", \"HP\", \"Бой\", \"Бой\",\"HP\",\"Фамилия\", \"\", \"Фамилия\", \"HP\", \"Бой\", \"Бой\",\"HP\",\"Фамилия\" ]]},\n",
    "    ]}\n",
    "\n",
    "results = service.spreadsheets().values().batchUpdate(spreadsheetId = spreadsheet['spreadsheetId'], \n",
    "                                             body = data_request).execute()"
   ]
  },
  {
   "cell_type": "code",
   "execution_count": 40,
   "metadata": {
    "collapsed": true
   },
   "outputs": [],
   "source": [
    "def get_position(round_number, area, pair_num):\n",
    "    # 1-based area\n",
    "    if area == 1:\n",
    "        columns = ('B', 'G')\n",
    "    elif area == 2:\n",
    "        columns = ('I', 'N')\n",
    "    else: \n",
    "        raise ValueError(\"Only 0 and 1 are valid areas\")\n",
    "    sheet = 'Round_' + str(round_number)\n",
    "    row = pair_num + 2 # heading\n",
    "    return '{sheet}!{begin}{row}:{end}{row}'.format(sheet=sheet, row=row, begin = columns[0], end = columns[1])\n",
    "\n",
    "def get_data(red_fighter, blue_fighter):\n",
    "    return [red_fighter.name, red_fighter.hp, '', '', blue_fighter.hp, blue_fighter.name]\n",
    "    \n",
    "def write_pair(spreadsheetId, round_number, area, pair_num, red_fighter, blue_fighter):\n",
    "    position = get_position(round_number, area, pair_num)\n",
    "    pair_data = get_data(red_fighter, blue_fighter)\n",
    "    data_request  = {\n",
    "     \"valueInputOption\": \"USER_ENTERED\",\n",
    "     \"data\": [\n",
    "        {\"range\": position,\n",
    "         \"majorDimension\": \"ROWS\",     # сначала заполнять ряды, затем столбцы (т.е. самые внутренние списки в values - это ряды)\n",
    "         \"values\": [pair_data]}\n",
    "    ]}\n",
    "    results = service.spreadsheets().values().batchUpdate(spreadsheetId = spreadsheetId, \n",
    "                                             body = data_request).execute()"
   ]
  },
  {
   "cell_type": "code",
   "execution_count": 41,
   "metadata": {},
   "outputs": [
    {
     "data": {
      "text/plain": [
       "'Round_1!B3:G3'"
      ]
     },
     "execution_count": 41,
     "metadata": {},
     "output_type": "execute_result"
    }
   ],
   "source": [
    "get_position(1, 1, 1)"
   ]
  },
  {
   "cell_type": "code",
   "execution_count": 49,
   "metadata": {
    "collapsed": true
   },
   "outputs": [],
   "source": [
    "from fighter import Fighter\n",
    "\n",
    "blue = Fighter(\"Loki\", 10)\n",
    "red = Fighter(\"Thor\", 12)\n",
    "\n",
    "write_pair(spreadsheet['spreadsheetId'], 1, 2, 2, red, blue)"
   ]
  },
  {
   "cell_type": "code",
   "execution_count": 47,
   "metadata": {},
   "outputs": [
    {
     "ename": "HttpError",
     "evalue": "<HttpError 400 when requesting https://sheets.googleapis.com/v4/spreadsheets/1P4cP-V8FWYa7Jwu1IEEWSQ1dmMG9vu6El-x54xspifQ:batchUpdate?alt=json returned \"Invalid JSON payload received. Unknown name \"startIndex\" at 'requests[0].update_cells.range': Cannot find field.\nInvalid JSON payload received. Unknown name \"endIndex\" at 'requests[0].update_cells.range': Cannot find field.\nInvalid JSON payload received. Unknown name \"textStyle\" at 'requests[0].update_cells': Cannot find field.\". Details: \"[{'@type': 'type.googleapis.com/google.rpc.BadRequest', 'fieldViolations': [{'field': 'requests[0].update_cells.range', 'description': 'Invalid JSON payload received. Unknown name \"startIndex\" at \\'requests[0].update_cells.range\\': Cannot find field.'}, {'field': 'requests[0].update_cells.range', 'description': 'Invalid JSON payload received. Unknown name \"endIndex\" at \\'requests[0].update_cells.range\\': Cannot find field.'}, {'field': 'requests[0].update_cells', 'description': 'Invalid JSON payload received. Unknown name \"textStyle\" at \\'requests[0].update_cells\\': Cannot find field.'}]}]\">",
     "output_type": "error",
     "traceback": [
      "\u001b[0;31m---------------------------------------------------------------------------\u001b[0m",
      "\u001b[0;31mHttpError\u001b[0m                                 Traceback (most recent call last)",
      "\u001b[0;32m<ipython-input-47-48f2168947c4>\u001b[0m in \u001b[0;36m<module>\u001b[0;34m()\u001b[0m\n\u001b[1;32m     26\u001b[0m \u001b[0;34m\u001b[0m\u001b[0m\n\u001b[1;32m     27\u001b[0m result = service.spreadsheets().batchUpdate(\n\u001b[0;32m---> 28\u001b[0;31m         spreadsheetId=spreadsheet['spreadsheetId'], body={'requests': request}).execute()\n\u001b[0m",
      "\u001b[0;32m~/anaconda3/lib/python3.6/site-packages/googleapiclient/_helpers.py\u001b[0m in \u001b[0;36mpositional_wrapper\u001b[0;34m(*args, **kwargs)\u001b[0m\n\u001b[1;32m    128\u001b[0m                 \u001b[0;32melif\u001b[0m \u001b[0mpositional_parameters_enforcement\u001b[0m \u001b[0;34m==\u001b[0m \u001b[0mPOSITIONAL_WARNING\u001b[0m\u001b[0;34m:\u001b[0m\u001b[0;34m\u001b[0m\u001b[0m\n\u001b[1;32m    129\u001b[0m                     \u001b[0mlogger\u001b[0m\u001b[0;34m.\u001b[0m\u001b[0mwarning\u001b[0m\u001b[0;34m(\u001b[0m\u001b[0mmessage\u001b[0m\u001b[0;34m)\u001b[0m\u001b[0;34m\u001b[0m\u001b[0m\n\u001b[0;32m--> 130\u001b[0;31m             \u001b[0;32mreturn\u001b[0m \u001b[0mwrapped\u001b[0m\u001b[0;34m(\u001b[0m\u001b[0;34m*\u001b[0m\u001b[0margs\u001b[0m\u001b[0;34m,\u001b[0m \u001b[0;34m**\u001b[0m\u001b[0mkwargs\u001b[0m\u001b[0;34m)\u001b[0m\u001b[0;34m\u001b[0m\u001b[0m\n\u001b[0m\u001b[1;32m    131\u001b[0m         \u001b[0;32mreturn\u001b[0m \u001b[0mpositional_wrapper\u001b[0m\u001b[0;34m\u001b[0m\u001b[0m\n\u001b[1;32m    132\u001b[0m \u001b[0;34m\u001b[0m\u001b[0m\n",
      "\u001b[0;32m~/anaconda3/lib/python3.6/site-packages/googleapiclient/http.py\u001b[0m in \u001b[0;36mexecute\u001b[0;34m(self, http, num_retries)\u001b[0m\n\u001b[1;32m    854\u001b[0m       \u001b[0mcallback\u001b[0m\u001b[0;34m(\u001b[0m\u001b[0mresp\u001b[0m\u001b[0;34m)\u001b[0m\u001b[0;34m\u001b[0m\u001b[0m\n\u001b[1;32m    855\u001b[0m     \u001b[0;32mif\u001b[0m \u001b[0mresp\u001b[0m\u001b[0;34m.\u001b[0m\u001b[0mstatus\u001b[0m \u001b[0;34m>=\u001b[0m \u001b[0;36m300\u001b[0m\u001b[0;34m:\u001b[0m\u001b[0;34m\u001b[0m\u001b[0m\n\u001b[0;32m--> 856\u001b[0;31m       \u001b[0;32mraise\u001b[0m \u001b[0mHttpError\u001b[0m\u001b[0;34m(\u001b[0m\u001b[0mresp\u001b[0m\u001b[0;34m,\u001b[0m \u001b[0mcontent\u001b[0m\u001b[0;34m,\u001b[0m \u001b[0muri\u001b[0m\u001b[0;34m=\u001b[0m\u001b[0mself\u001b[0m\u001b[0;34m.\u001b[0m\u001b[0muri\u001b[0m\u001b[0;34m)\u001b[0m\u001b[0;34m\u001b[0m\u001b[0m\n\u001b[0m\u001b[1;32m    857\u001b[0m     \u001b[0;32mreturn\u001b[0m \u001b[0mself\u001b[0m\u001b[0;34m.\u001b[0m\u001b[0mpostproc\u001b[0m\u001b[0;34m(\u001b[0m\u001b[0mresp\u001b[0m\u001b[0;34m,\u001b[0m \u001b[0mcontent\u001b[0m\u001b[0;34m)\u001b[0m\u001b[0;34m\u001b[0m\u001b[0m\n\u001b[1;32m    858\u001b[0m \u001b[0;34m\u001b[0m\u001b[0m\n",
      "\u001b[0;31mHttpError\u001b[0m: <HttpError 400 when requesting https://sheets.googleapis.com/v4/spreadsheets/1P4cP-V8FWYa7Jwu1IEEWSQ1dmMG9vu6El-x54xspifQ:batchUpdate?alt=json returned \"Invalid JSON payload received. Unknown name \"startIndex\" at 'requests[0].update_cells.range': Cannot find field.\nInvalid JSON payload received. Unknown name \"endIndex\" at 'requests[0].update_cells.range': Cannot find field.\nInvalid JSON payload received. Unknown name \"textStyle\" at 'requests[0].update_cells': Cannot find field.\". Details: \"[{'@type': 'type.googleapis.com/google.rpc.BadRequest', 'fieldViolations': [{'field': 'requests[0].update_cells.range', 'description': 'Invalid JSON payload received. Unknown name \"startIndex\" at \\'requests[0].update_cells.range\\': Cannot find field.'}, {'field': 'requests[0].update_cells.range', 'description': 'Invalid JSON payload received. Unknown name \"endIndex\" at \\'requests[0].update_cells.range\\': Cannot find field.'}, {'field': 'requests[0].update_cells', 'description': 'Invalid JSON payload received. Unknown name \"textStyle\" at \\'requests[0].update_cells\\': Cannot find field.'}]}]\">"
     ]
    }
   ],
   "source": [
    "# Color\n",
    "requests = [\n",
    "    {\n",
    "      \"repeatCell\": {\n",
    "        \"range\": {\n",
    "          \"sheetId\": 0,\n",
    "          \"startRowIndex\": 2,\n",
    "          \"endRowIndex\": 23,\n",
    "          \"startColumnIndex\": 2,\n",
    "          \"endColumnIndex\": 5\n",
    "        },\n",
    "        \"cell\": {\n",
    "          \"userEnteredFormat\": {\n",
    "            \"backgroundColor\": {\n",
    "              \"red\": 0.8,\n",
    "              \"green\": 0.8,\n",
    "              \"blue\": 1.0\n",
    "            }\n",
    "          }\n",
    "        },\n",
    "        \"fields\": \"userEnteredFormat(backgroundColor)\"\n",
    "      }\n",
    "    }\n",
    "  ]\n",
    "\n",
    "\n",
    "result = service.spreadsheets().batchUpdate(\n",
    "        spreadsheetId=spreadsheet['spreadsheetId'], body={'requests': request}).execute()\n"
   ]
  },
  {
   "cell_type": "markdown",
   "metadata": {},
   "source": [
    "# Read data back from the sheet"
   ]
  },
  {
   "cell_type": "code",
   "execution_count": 58,
   "metadata": {
    "scrolled": false
   },
   "outputs": [
    {
     "name": "stdout",
     "output_type": "stream",
     "text": [
      "{'properties': {'autoRecalc': 'ON_CHANGE',\n",
      "                'defaultFormat': {'backgroundColor': {'blue': 1,\n",
      "                                                      'green': 1,\n",
      "                                                      'red': 1},\n",
      "                                  'padding': {'bottom': 2,\n",
      "                                              'left': 3,\n",
      "                                              'right': 3,\n",
      "                                              'top': 2},\n",
      "                                  'textFormat': {'bold': False,\n",
      "                                                 'fontFamily': 'arial,sans,sans-serif',\n",
      "                                                 'fontSize': 10,\n",
      "                                                 'foregroundColor': {},\n",
      "                                                 'italic': False,\n",
      "                                                 'strikethrough': False,\n",
      "                                                 'underline': False},\n",
      "                                  'verticalAlignment': 'BOTTOM',\n",
      "                                  'wrapStrategy': 'OVERFLOW_CELL'},\n",
      "                'locale': 'ru_RU',\n",
      "                'timeZone': 'Etc/GMT',\n",
      "                'title': 'Mws-sheets'},\n",
      " 'sheets': [{'data': [{'columnMetadata': [{'pixelSize': 100},\n",
      "                                          {'pixelSize': 35},\n",
      "                                          {'pixelSize': 35},\n",
      "                                          {'pixelSize': 35},\n",
      "                                          {'pixelSize': 35},\n",
      "                                          {'pixelSize': 100}],\n",
      "                       'rowData': [{'values': [{'effectiveFormat': {'backgroundColor': {'blue': 1,\n",
      "                                                                                        'green': 1,\n",
      "                                                                                        'red': 1},\n",
      "                                                                    'horizontalAlignment': 'LEFT',\n",
      "                                                                    'hyperlinkDisplayType': 'PLAIN_TEXT',\n",
      "                                                                    'padding': {'bottom': 2,\n",
      "                                                                                'left': 3,\n",
      "                                                                                'right': 3,\n",
      "                                                                                'top': 2},\n",
      "                                                                    'textFormat': {'bold': False,\n",
      "                                                                                   'fontFamily': 'Arial',\n",
      "                                                                                   'fontSize': 10,\n",
      "                                                                                   'foregroundColor': {},\n",
      "                                                                                   'italic': False,\n",
      "                                                                                   'strikethrough': False,\n",
      "                                                                                   'underline': False},\n",
      "                                                                    'verticalAlignment': 'BOTTOM',\n",
      "                                                                    'wrapStrategy': 'OVERFLOW_CELL'},\n",
      "                                                'effectiveValue': {'stringValue': 'Thor'},\n",
      "                                                'formattedValue': 'Thor',\n",
      "                                                'userEnteredValue': {'stringValue': 'Thor'}},\n",
      "                                               {'effectiveFormat': {'backgroundColor': {'blue': 1,\n",
      "                                                                                        'green': 1,\n",
      "                                                                                        'red': 1},\n",
      "                                                                    'horizontalAlignment': 'RIGHT',\n",
      "                                                                    'hyperlinkDisplayType': 'PLAIN_TEXT',\n",
      "                                                                    'padding': {'bottom': 2,\n",
      "                                                                                'left': 3,\n",
      "                                                                                'right': 3,\n",
      "                                                                                'top': 2},\n",
      "                                                                    'textFormat': {'bold': False,\n",
      "                                                                                   'fontFamily': 'Arial',\n",
      "                                                                                   'fontSize': 10,\n",
      "                                                                                   'foregroundColor': {},\n",
      "                                                                                   'italic': False,\n",
      "                                                                                   'strikethrough': False,\n",
      "                                                                                   'underline': False},\n",
      "                                                                    'verticalAlignment': 'BOTTOM',\n",
      "                                                                    'wrapStrategy': 'OVERFLOW_CELL'},\n",
      "                                                'effectiveValue': {'numberValue': 12},\n",
      "                                                'formattedValue': '12',\n",
      "                                                'userEnteredValue': {'numberValue': 12}},\n",
      "                                               {},\n",
      "                                               {},\n",
      "                                               {'effectiveFormat': {'backgroundColor': {'blue': 1,\n",
      "                                                                                        'green': 1,\n",
      "                                                                                        'red': 1},\n",
      "                                                                    'horizontalAlignment': 'RIGHT',\n",
      "                                                                    'hyperlinkDisplayType': 'PLAIN_TEXT',\n",
      "                                                                    'padding': {'bottom': 2,\n",
      "                                                                                'left': 3,\n",
      "                                                                                'right': 3,\n",
      "                                                                                'top': 2},\n",
      "                                                                    'textFormat': {'bold': False,\n",
      "                                                                                   'fontFamily': 'Arial',\n",
      "                                                                                   'fontSize': 10,\n",
      "                                                                                   'foregroundColor': {},\n",
      "                                                                                   'italic': False,\n",
      "                                                                                   'strikethrough': False,\n",
      "                                                                                   'underline': False},\n",
      "                                                                    'verticalAlignment': 'BOTTOM',\n",
      "                                                                    'wrapStrategy': 'OVERFLOW_CELL'},\n",
      "                                                'effectiveValue': {'numberValue': 10},\n",
      "                                                'formattedValue': '10',\n",
      "                                                'userEnteredValue': {'numberValue': 10}},\n",
      "                                               {'effectiveFormat': {'backgroundColor': {'blue': 1,\n",
      "                                                                                        'green': 1,\n",
      "                                                                                        'red': 1},\n",
      "                                                                    'horizontalAlignment': 'LEFT',\n",
      "                                                                    'hyperlinkDisplayType': 'PLAIN_TEXT',\n",
      "                                                                    'padding': {'bottom': 2,\n",
      "                                                                                'left': 3,\n",
      "                                                                                'right': 3,\n",
      "                                                                                'top': 2},\n",
      "                                                                    'textFormat': {'bold': False,\n",
      "                                                                                   'fontFamily': 'Arial',\n",
      "                                                                                   'fontSize': 10,\n",
      "                                                                                   'foregroundColor': {},\n",
      "                                                                                   'italic': False,\n",
      "                                                                                   'strikethrough': False,\n",
      "                                                                                   'underline': False},\n",
      "                                                                    'verticalAlignment': 'BOTTOM',\n",
      "                                                                    'wrapStrategy': 'OVERFLOW_CELL'},\n",
      "                                                'effectiveValue': {'stringValue': 'Loki'},\n",
      "                                                'formattedValue': 'Loki',\n",
      "                                                'userEnteredValue': {'stringValue': 'Loki'}}]}],\n",
      "                       'rowMetadata': [{'pixelSize': 21},\n",
      "                                       {'pixelSize': 21},\n",
      "                                       {'pixelSize': 21},\n",
      "                                       {'pixelSize': 21},\n",
      "                                       {'pixelSize': 21},\n",
      "                                       {'pixelSize': 21},\n",
      "                                       {'pixelSize': 21},\n",
      "                                       {'pixelSize': 21},\n",
      "                                       {'pixelSize': 21},\n",
      "                                       {'pixelSize': 21},\n",
      "                                       {'pixelSize': 21},\n",
      "                                       {'pixelSize': 21},\n",
      "                                       {'pixelSize': 21},\n",
      "                                       {'pixelSize': 21},\n",
      "                                       {'pixelSize': 21},\n",
      "                                       {'pixelSize': 21},\n",
      "                                       {'pixelSize': 21},\n",
      "                                       {'pixelSize': 21},\n",
      "                                       {'pixelSize': 21}],\n",
      "                       'startColumn': 1,\n",
      "                       'startRow': 2}],\n",
      "             'properties': {'gridProperties': {'columnCount': 15,\n",
      "                                               'rowCount': 23},\n",
      "                            'index': 0,\n",
      "                            'sheetId': 0,\n",
      "                            'sheetType': 'GRID',\n",
      "                            'title': 'Round_1'}}],\n",
      " 'spreadsheetId': '1P4cP-V8FWYa7Jwu1IEEWSQ1dmMG9vu6El-x54xspifQ',\n",
      " 'spreadsheetUrl': 'https://docs.google.com/spreadsheets/d/1P4cP-V8FWYa7Jwu1IEEWSQ1dmMG9vu6El-x54xspifQ/edit'}\n"
     ]
    }
   ],
   "source": [
    "import pprint\n",
    "pp = pprint.PrettyPrinter()\n",
    "\n",
    "request = service.spreadsheets().get(spreadsheetId=spreadsheet['spreadsheetId'], ranges='B3:G21', includeGridData=True)\n",
    "response = request.execute()\n",
    "pp.pprint(response)"
   ]
  }
 ],
 "metadata": {
  "kernelspec": {
   "display_name": "Python 3",
   "language": "python",
   "name": "python3"
  },
  "language_info": {
   "codemirror_mode": {
    "name": "ipython",
    "version": 3
   },
   "file_extension": ".py",
   "mimetype": "text/x-python",
   "name": "python",
   "nbconvert_exporter": "python",
   "pygments_lexer": "ipython3",
   "version": "3.6.3"
  }
 },
 "nbformat": 4,
 "nbformat_minor": 2
}
